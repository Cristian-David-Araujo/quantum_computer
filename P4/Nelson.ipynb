{
 "cells": [
  {
   "cell_type": "code",
   "execution_count": 315,
   "metadata": {},
   "outputs": [],
   "source": [
    "import socket\n",
    "import pandas as pd\n",
    "import numpy as np"
   ]
  },
  {
   "cell_type": "code",
   "execution_count": 316,
   "metadata": {},
   "outputs": [],
   "source": [
    "key = [1, 1, 0, 1, 0, 0, 1, 0, 1, 1, 1, 0, 1, 1, 1, 0, 1, 0, 0, 1, 0, 0, 1, 1, 0, 0, 0, 1, 1, 0, 1, 0, 0]\n",
    "chunk_size = 7"
   ]
  },
  {
   "cell_type": "code",
   "execution_count": 317,
   "metadata": {},
   "outputs": [],
   "source": [
    "def mapping(csv_filename, chunk_size=7):\n",
    "    '''\n",
    "\n",
    "    '''\n",
    "    decoding_map = {}\n",
    "    df =pd.read_csv(csv_filename)\n",
    "    df['number'] =  pd.to_numeric(df['number']).astype(int)\n",
    "    df['number'] = df['number'].apply(lambda x: bin(x & 0x7F)[2:].zfill(7)) \n",
    "    for index, row in df.iterrows():                                \n",
    "        decoding_map[row[0]] = row[1]\n",
    "    return decoding_map"
   ]
  },
  {
   "cell_type": "code",
   "execution_count": 318,
   "metadata": {},
   "outputs": [],
   "source": [
    "HOST = '127.0.0.1'  # Dirección local (localhost)\n",
    "PORT = 65432        # Puerto para la comunicación"
   ]
  },
  {
   "cell_type": "code",
   "execution_count": 319,
   "metadata": {},
   "outputs": [
    {
     "name": "stdout",
     "output_type": "stream",
     "text": [
      "Bob esperando conexión...\n",
      "Conectado desde ('127.0.0.1', 33579)\n",
      "Mensaje cifrado recibido: 1110111011010010111000000100100011100100111111010100100010010101000110010000101110110100100001010101000011001001101111100011001100001101011110000010100111110111101100111001001\n"
     ]
    }
   ],
   "source": [
    "with socket.socket(socket.AF_INET, socket.SOCK_STREAM) as s:\n",
    "    s.bind((HOST, PORT))\n",
    "    s.listen()\n",
    "    print(\"Bob esperando conexión...\")\n",
    "    conn, addr = s.accept()\n",
    "    with conn:\n",
    "        print(f\"Conectado desde {addr}\")\n",
    "        encrypted_message = conn.recv(1024).decode()\n",
    "        print(\"Mensaje cifrado recibido:\", encrypted_message)"
   ]
  },
  {
   "cell_type": "code",
   "execution_count": 320,
   "metadata": {},
   "outputs": [],
   "source": [
    "encrypted_bits = [int(digit) for digit in encrypted_message]"
   ]
  },
  {
   "cell_type": "code",
   "execution_count": 321,
   "metadata": {},
   "outputs": [],
   "source": [
    "key_length = len(key)\n",
    "extended_key = [key[i % key_length] for i in range(len(encrypted_bits))]"
   ]
  },
  {
   "cell_type": "code",
   "execution_count": 322,
   "metadata": {},
   "outputs": [],
   "source": [
    "key_message = np.zeros(len(encrypted_bits), dtype=int)\n",
    "for i in range(len(encrypted_bits)):\n",
    "    if extended_key[i] == 1:\n",
    "        key_message[i] = encrypted_bits[i] ^ 1\n",
    "    else:\n",
    "        key_message[i] = encrypted_bits[i]\n"
   ]
  },
  {
   "cell_type": "code",
   "execution_count": 323,
   "metadata": {},
   "outputs": [],
   "source": [
    "flat_decrypted_string = \"\".join(map(str, key_message))\n",
    "\n",
    "list_of_binary_strings_7bit = []\n",
    "for i in range(0, len(flat_decrypted_string), chunk_size):\n",
    "    chunk = flat_decrypted_string[i : i + chunk_size]\n",
    "    list_of_binary_strings_7bit.append(chunk)"
   ]
  },
  {
   "cell_type": "code",
   "execution_count": 324,
   "metadata": {},
   "outputs": [],
   "source": [
    "decoding_map_from_csv = mapping(\"alpha.csv\", chunk_size)"
   ]
  },
  {
   "cell_type": "code",
   "execution_count": 325,
   "metadata": {},
   "outputs": [],
   "source": [
    "decoded_message = \"\"\n",
    "for i in list_of_binary_strings_7bit:\n",
    "    decoded_message = decoded_message + decoding_map_from_csv[i]"
   ]
  },
  {
   "cell_type": "code",
   "execution_count": 326,
   "metadata": {},
   "outputs": [
    {
     "data": {
      "text/plain": [
       "\"Don't talk about the club\""
      ]
     },
     "execution_count": 326,
     "metadata": {},
     "output_type": "execute_result"
    }
   ],
   "source": [
    "decoded_message"
   ]
  }
 ],
 "metadata": {
  "kernelspec": {
   "display_name": "base",
   "language": "python",
   "name": "python3"
  },
  "language_info": {
   "codemirror_mode": {
    "name": "ipython",
    "version": 3
   },
   "file_extension": ".py",
   "mimetype": "text/x-python",
   "name": "python",
   "nbconvert_exporter": "python",
   "pygments_lexer": "ipython3",
   "version": "3.11.5"
  }
 },
 "nbformat": 4,
 "nbformat_minor": 2
}
