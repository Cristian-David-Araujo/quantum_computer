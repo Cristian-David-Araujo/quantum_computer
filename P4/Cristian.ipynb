{
 "cells": [
  {
   "cell_type": "code",
   "execution_count": 324,
   "metadata": {},
   "outputs": [],
   "source": [
    "import socket\n",
    "import pandas as pd\n",
    "import numpy as np"
   ]
  },
  {
   "cell_type": "code",
   "execution_count": 325,
   "metadata": {},
   "outputs": [],
   "source": [
    "message = \"Don't talk about the club\" \n",
    "df = pd.read_csv(\"alpha.csv\")\n",
    "key = [1, 1, 0, 1, 0, 0, 1, 0, 1, 1, 1, 0, 1, 1, 1, 0, 1, 0, 0, 1, 0, 0, 1, 1, 0, 0, 0, 1, 1, 0, 1, 0, 0]"
   ]
  },
  {
   "cell_type": "code",
   "execution_count": 326,
   "metadata": {},
   "outputs": [],
   "source": [
    "df[\"number\"] = pd.to_numeric(df['number']).astype(int)\n",
    "\n",
    "df['number'] = df['number'].apply(lambda x: bin(x & 0x7F)[2:].zfill(7))\n",
    "mapping = {} \n",
    "for index, row in df.iterrows():\n",
    "    list_of_bits = [int(bit) for bit in row[0]]\n",
    "    mapping[row[1]] = list_of_bits"
   ]
  },
  {
   "cell_type": "code",
   "execution_count": 327,
   "metadata": {},
   "outputs": [],
   "source": [
    "encoded_message = [\n",
    "    bit for char in message if char in mapping for bit in mapping[char]\n",
    "]"
   ]
  },
  {
   "cell_type": "code",
   "execution_count": 328,
   "metadata": {},
   "outputs": [],
   "source": [
    "key_length = len(key)\n",
    "\n",
    "extended_key = [key[i % key_length] for i in range(len(encoded_message))]"
   ]
  },
  {
   "cell_type": "code",
   "execution_count": 329,
   "metadata": {},
   "outputs": [],
   "source": [
    "encoded_message_to_send = np.zeros(len(encoded_message), dtype=int)\n",
    "for i in range(len(encoded_message)):\n",
    "    if extended_key[i] == 1:\n",
    "        encoded_message_to_send[i] = encoded_message[i] ^ 1\n",
    "    else:\n",
    "        encoded_message_to_send[i] = encoded_message[i]\n"
   ]
  },
  {
   "cell_type": "code",
   "execution_count": 330,
   "metadata": {},
   "outputs": [
    {
     "name": "stdout",
     "output_type": "stream",
     "text": [
      "Mensaje cifrado enviado a Bob.\n"
     ]
    }
   ],
   "source": [
    "HOST = '127.0.0.1'  # Dirección local (apunta a la misma PC)\n",
    "PORT = 65432        # Mismo puerto que el servidor\n",
    "binary_string = \"\".join(str(bit) for bit in encoded_message_to_send)\n",
    "\n",
    "with socket.socket(socket.AF_INET, socket.SOCK_STREAM) as s:\n",
    "    s.connect((HOST, PORT))\n",
    "    s.sendall(binary_string.encode())\n",
    "    print(\"Mensaje cifrado enviado a Bob.\")"
   ]
  },
  {
   "cell_type": "code",
   "execution_count": 331,
   "metadata": {},
   "outputs": [
    {
     "data": {
      "text/plain": [
       "'1110111011010010111000000100100011100100111111010100100010010101000110010000101110110100100001010101000011001001101111100011001100001101011110000010100111110111101100111001001'"
      ]
     },
     "execution_count": 331,
     "metadata": {},
     "output_type": "execute_result"
    }
   ],
   "source": [
    "binary_string"
   ]
  }
 ],
 "metadata": {
  "kernelspec": {
   "display_name": "base",
   "language": "python",
   "name": "python3"
  },
  "language_info": {
   "codemirror_mode": {
    "name": "ipython",
    "version": 3
   },
   "file_extension": ".py",
   "mimetype": "text/x-python",
   "name": "python",
   "nbconvert_exporter": "python",
   "pygments_lexer": "ipython3",
   "version": "3.11.5"
  }
 },
 "nbformat": 4,
 "nbformat_minor": 2
}
