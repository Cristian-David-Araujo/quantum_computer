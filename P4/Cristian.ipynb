{
 "cells": [
  {
   "cell_type": "code",
   "execution_count": 89,
   "metadata": {},
   "outputs": [],
   "source": [
    "import socket\n",
    "import pandas as pd\n",
    "import numpy as np"
   ]
  },
  {
   "cell_type": "code",
   "execution_count": 90,
   "metadata": {},
   "outputs": [],
   "source": [
    "message = \"donttalkabouttheclub\" \n",
    "df = pd.read_csv(\"alpha.csv\")\n",
    "key = [1, 1, 0, 1, 0, 0, 1, 0, 1, 1, 1, 0, 1, 1, 1, 0, 1, 0, 0, 1, 0, 0, 1, 1, 0, 0, 0, 1, 1, 0, 1, 0, 0]"
   ]
  },
  {
   "cell_type": "code",
   "execution_count": 91,
   "metadata": {},
   "outputs": [],
   "source": [
    "df[\"number\"] = pd.to_numeric(df['number']).astype(int)\n",
    "\n",
    "df['number'] = df['number'].apply(lambda x: bin(x & 0x7F)[2:].zfill(7))\n",
    "mapping = {} \n",
    "for index, row in df.iterrows():\n",
    "    list_of_bits = [int(bit) for bit in row[0]]\n",
    "    mapping[row[1]] = list_of_bits"
   ]
  },
  {
   "cell_type": "code",
   "execution_count": 92,
   "metadata": {},
   "outputs": [],
   "source": [
    "encoded_message = [\n",
    "    bit for char in message if char in mapping for bit in mapping[char]\n",
    "]"
   ]
  },
  {
   "cell_type": "code",
   "execution_count": 93,
   "metadata": {},
   "outputs": [],
   "source": [
    "key_length = len(key)\n",
    "\n",
    "# Generate the extended list directly using list comprehension\n",
    "# (i % key_length) calculates the correct index in the original key list\n",
    "extended_key = [key[i % key_length] for i in range(len(encoded_message))]"
   ]
  },
  {
   "cell_type": "code",
   "execution_count": null,
   "metadata": {},
   "outputs": [],
   "source": [
    "encoded_message_to_send = np.zeros(len(encoded_message))\n",
    "for i in range(len(encoded_message)):\n",
    "    if extended_key[i] == 1:\n",
    "        encoded_message_to_send[i] = int(not(encoded_message[i]))\n",
    "    else:\n",
    "        encoded_message_to_send[i] = int(encoded_message[i])\n"
   ]
  },
  {
   "cell_type": "code",
   "execution_count": 95,
   "metadata": {},
   "outputs": [
    {
     "data": {
      "text/plain": [
       "array([1., 1., 0., 1., 1., 0., 1., 0., 1., 1., 0., 1., 0., 0., 1., 0., 1.,\n",
       "       1., 1., 0., 0., 0., 1., 0., 0., 1., 0., 1., 1., 0., 0., 0., 1., 1.,\n",
       "       1., 0., 1., 0., 0., 1., 0., 0., 1., 1., 0., 0., 0., 1., 0., 1., 0.,\n",
       "       0., 0., 0., 1., 0., 1., 0., 0., 0., 1., 1., 1., 1., 0., 0., 1., 1.,\n",
       "       1., 1., 0., 0., 1., 1., 0., 0., 0., 0., 1., 0., 1., 1., 1., 1., 0.,\n",
       "       1., 1., 0., 0., 1., 0., 0., 0., 0., 1., 1., 1., 0., 0., 1., 1., 1.,\n",
       "       1., 0., 0., 1., 0., 1., 1., 0., 0., 0., 1., 1., 0., 1., 0., 1., 0.,\n",
       "       0., 0., 1., 0., 1., 0., 0., 1., 1., 1., 1., 1., 0., 0., 1., 0., 1.,\n",
       "       0., 0., 0., 0.])"
      ]
     },
     "execution_count": 95,
     "metadata": {},
     "output_type": "execute_result"
    }
   ],
   "source": [
    "encoded_message_to_send"
   ]
  },
  {
   "cell_type": "code",
   "execution_count": null,
   "metadata": {},
   "outputs": [
    {
     "name": "stdout",
     "output_type": "stream",
     "text": [
      "Mensaje cifrado enviado a Bob.\n"
     ]
    }
   ],
   "source": [
    "HOST = '127.0.0.1'  # Dirección local (apunta a la misma PC)\n",
    "PORT = 65432        # Mismo puerto que el servidor\n",
    "binary_string = \"\".join(str(bit) for bit in encoded_message_to_send)\n",
    "\n",
    "with socket.socket(socket.AF_INET, socket.SOCK_STREAM) as s:\n",
    "    s.connect((HOST, PORT))\n",
    "    s.sendall(binary_string.encode())\n",
    "    print(\"Mensaje cifrado enviado a Bob.\")"
   ]
  },
  {
   "cell_type": "code",
   "execution_count": 97,
   "metadata": {},
   "outputs": [
    {
     "data": {
      "text/plain": [
       "'1.01.00.01.01.00.01.00.01.01.00.01.00.00.01.00.01.01.01.00.00.00.01.00.00.01.00.01.01.00.00.00.01.01.01.00.01.00.00.01.00.00.01.01.00.00.00.01.00.01.00.00.00.00.01.00.01.00.00.00.01.01.01.01.00.00.01.01.01.01.00.00.01.01.00.00.00.00.01.00.01.01.01.01.00.01.01.00.00.01.00.00.00.00.01.01.01.00.00.01.01.01.01.00.00.01.00.01.01.00.00.00.01.01.00.01.00.01.00.00.00.01.00.01.00.00.01.01.01.01.01.00.00.01.00.01.00.00.00.00.0'"
      ]
     },
     "execution_count": 97,
     "metadata": {},
     "output_type": "execute_result"
    }
   ],
   "source": [
    "binary_string"
   ]
  }
 ],
 "metadata": {
  "kernelspec": {
   "display_name": "base",
   "language": "python",
   "name": "python3"
  },
  "language_info": {
   "codemirror_mode": {
    "name": "ipython",
    "version": 3
   },
   "file_extension": ".py",
   "mimetype": "text/x-python",
   "name": "python",
   "nbconvert_exporter": "python",
   "pygments_lexer": "ipython3",
   "version": "3.11.5"
  }
 },
 "nbformat": 4,
 "nbformat_minor": 2
}
