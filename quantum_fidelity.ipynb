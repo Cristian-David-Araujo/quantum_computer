{
  "cells": [
    {
      "cell_type": "code",
      "source": [
        "!pip install qiskit\n",
        "!pip install qiskit-ibm-runtime\n",
        "!pip install qiskit[visualization]\n",
        "!pip install qiskit-aer"
      ],
      "metadata": {
        "colab": {
          "base_uri": "https://localhost:8080/"
        },
        "id": "d3NtyCv8Jigp",
        "outputId": "30c8e46b-fdc6-42e1-a3d1-c51f146186ea"
      },
      "id": "d3NtyCv8Jigp",
      "execution_count": 45,
      "outputs": [
        {
          "output_type": "stream",
          "name": "stdout",
          "text": [
            "Requirement already satisfied: qiskit in /usr/local/lib/python3.11/dist-packages (2.0.0)\n",
            "Requirement already satisfied: rustworkx>=0.15.0 in /usr/local/lib/python3.11/dist-packages (from qiskit) (0.16.0)\n",
            "Requirement already satisfied: numpy<3,>=1.17 in /usr/local/lib/python3.11/dist-packages (from qiskit) (2.0.2)\n",
            "Requirement already satisfied: scipy>=1.5 in /usr/local/lib/python3.11/dist-packages (from qiskit) (1.14.1)\n",
            "Requirement already satisfied: sympy>=1.3 in /usr/local/lib/python3.11/dist-packages (from qiskit) (1.13.1)\n",
            "Requirement already satisfied: dill>=0.3 in /usr/local/lib/python3.11/dist-packages (from qiskit) (0.4.0)\n",
            "Requirement already satisfied: python-dateutil>=2.8.0 in /usr/local/lib/python3.11/dist-packages (from qiskit) (2.8.2)\n",
            "Requirement already satisfied: stevedore>=3.0.0 in /usr/local/lib/python3.11/dist-packages (from qiskit) (5.4.1)\n",
            "Requirement already satisfied: typing-extensions in /usr/local/lib/python3.11/dist-packages (from qiskit) (4.13.2)\n",
            "Requirement already satisfied: symengine<0.14,>=0.11 in /usr/local/lib/python3.11/dist-packages (from qiskit) (0.13.0)\n",
            "Requirement already satisfied: six>=1.5 in /usr/local/lib/python3.11/dist-packages (from python-dateutil>=2.8.0->qiskit) (1.17.0)\n",
            "Requirement already satisfied: pbr>=2.0.0 in /usr/local/lib/python3.11/dist-packages (from stevedore>=3.0.0->qiskit) (6.1.1)\n",
            "Requirement already satisfied: mpmath<1.4,>=1.1.0 in /usr/local/lib/python3.11/dist-packages (from sympy>=1.3->qiskit) (1.3.0)\n",
            "Requirement already satisfied: setuptools in /usr/local/lib/python3.11/dist-packages (from pbr>=2.0.0->stevedore>=3.0.0->qiskit) (75.2.0)\n",
            "Requirement already satisfied: qiskit-ibm-runtime in /usr/local/lib/python3.11/dist-packages (0.38.0)\n",
            "Requirement already satisfied: requests>=2.19 in /usr/local/lib/python3.11/dist-packages (from qiskit-ibm-runtime) (2.32.3)\n",
            "Requirement already satisfied: requests-ntlm>=1.1.0 in /usr/local/lib/python3.11/dist-packages (from qiskit-ibm-runtime) (1.3.0)\n",
            "Requirement already satisfied: numpy>=1.13 in /usr/local/lib/python3.11/dist-packages (from qiskit-ibm-runtime) (2.0.2)\n",
            "Requirement already satisfied: urllib3>=1.21.1 in /usr/local/lib/python3.11/dist-packages (from qiskit-ibm-runtime) (2.3.0)\n",
            "Requirement already satisfied: python-dateutil>=2.8.0 in /usr/local/lib/python3.11/dist-packages (from qiskit-ibm-runtime) (2.8.2)\n",
            "Requirement already satisfied: ibm-platform-services>=0.22.6 in /usr/local/lib/python3.11/dist-packages (from qiskit-ibm-runtime) (0.63.0)\n",
            "Requirement already satisfied: pydantic<2.10,>=2.5.0 in /usr/local/lib/python3.11/dist-packages (from qiskit-ibm-runtime) (2.9.2)\n",
            "Requirement already satisfied: qiskit>=1.4.1 in /usr/local/lib/python3.11/dist-packages (from qiskit-ibm-runtime) (2.0.0)\n",
            "Requirement already satisfied: packaging in /usr/local/lib/python3.11/dist-packages (from qiskit-ibm-runtime) (24.2)\n",
            "Requirement already satisfied: ibm_cloud_sdk_core<4.0.0,>=3.22.1 in /usr/local/lib/python3.11/dist-packages (from ibm-platform-services>=0.22.6->qiskit-ibm-runtime) (3.23.0)\n",
            "Requirement already satisfied: annotated-types>=0.6.0 in /usr/local/lib/python3.11/dist-packages (from pydantic<2.10,>=2.5.0->qiskit-ibm-runtime) (0.7.0)\n",
            "Requirement already satisfied: pydantic-core==2.23.4 in /usr/local/lib/python3.11/dist-packages (from pydantic<2.10,>=2.5.0->qiskit-ibm-runtime) (2.23.4)\n",
            "Requirement already satisfied: typing-extensions>=4.6.1 in /usr/local/lib/python3.11/dist-packages (from pydantic<2.10,>=2.5.0->qiskit-ibm-runtime) (4.13.2)\n",
            "Requirement already satisfied: six>=1.5 in /usr/local/lib/python3.11/dist-packages (from python-dateutil>=2.8.0->qiskit-ibm-runtime) (1.17.0)\n",
            "Requirement already satisfied: rustworkx>=0.15.0 in /usr/local/lib/python3.11/dist-packages (from qiskit>=1.4.1->qiskit-ibm-runtime) (0.16.0)\n",
            "Requirement already satisfied: scipy>=1.5 in /usr/local/lib/python3.11/dist-packages (from qiskit>=1.4.1->qiskit-ibm-runtime) (1.14.1)\n",
            "Requirement already satisfied: sympy>=1.3 in /usr/local/lib/python3.11/dist-packages (from qiskit>=1.4.1->qiskit-ibm-runtime) (1.13.1)\n",
            "Requirement already satisfied: dill>=0.3 in /usr/local/lib/python3.11/dist-packages (from qiskit>=1.4.1->qiskit-ibm-runtime) (0.4.0)\n",
            "Requirement already satisfied: stevedore>=3.0.0 in /usr/local/lib/python3.11/dist-packages (from qiskit>=1.4.1->qiskit-ibm-runtime) (5.4.1)\n",
            "Requirement already satisfied: symengine<0.14,>=0.11 in /usr/local/lib/python3.11/dist-packages (from qiskit>=1.4.1->qiskit-ibm-runtime) (0.13.0)\n",
            "Requirement already satisfied: charset-normalizer<4,>=2 in /usr/local/lib/python3.11/dist-packages (from requests>=2.19->qiskit-ibm-runtime) (3.4.1)\n",
            "Requirement already satisfied: idna<4,>=2.5 in /usr/local/lib/python3.11/dist-packages (from requests>=2.19->qiskit-ibm-runtime) (3.10)\n",
            "Requirement already satisfied: certifi>=2017.4.17 in /usr/local/lib/python3.11/dist-packages (from requests>=2.19->qiskit-ibm-runtime) (2025.1.31)\n",
            "Requirement already satisfied: cryptography>=1.3 in /usr/local/lib/python3.11/dist-packages (from requests-ntlm>=1.1.0->qiskit-ibm-runtime) (43.0.3)\n",
            "Requirement already satisfied: pyspnego>=0.4.0 in /usr/local/lib/python3.11/dist-packages (from requests-ntlm>=1.1.0->qiskit-ibm-runtime) (0.11.2)\n",
            "Requirement already satisfied: cffi>=1.12 in /usr/local/lib/python3.11/dist-packages (from cryptography>=1.3->requests-ntlm>=1.1.0->qiskit-ibm-runtime) (1.17.1)\n",
            "Requirement already satisfied: PyJWT<3.0.0,>=2.8.0 in /usr/local/lib/python3.11/dist-packages (from ibm_cloud_sdk_core<4.0.0,>=3.22.1->ibm-platform-services>=0.22.6->qiskit-ibm-runtime) (2.10.1)\n",
            "Requirement already satisfied: pbr>=2.0.0 in /usr/local/lib/python3.11/dist-packages (from stevedore>=3.0.0->qiskit>=1.4.1->qiskit-ibm-runtime) (6.1.1)\n",
            "Requirement already satisfied: mpmath<1.4,>=1.1.0 in /usr/local/lib/python3.11/dist-packages (from sympy>=1.3->qiskit>=1.4.1->qiskit-ibm-runtime) (1.3.0)\n",
            "Requirement already satisfied: pycparser in /usr/local/lib/python3.11/dist-packages (from cffi>=1.12->cryptography>=1.3->requests-ntlm>=1.1.0->qiskit-ibm-runtime) (2.22)\n",
            "Requirement already satisfied: setuptools in /usr/local/lib/python3.11/dist-packages (from pbr>=2.0.0->stevedore>=3.0.0->qiskit>=1.4.1->qiskit-ibm-runtime) (75.2.0)\n",
            "Requirement already satisfied: qiskit[visualization] in /usr/local/lib/python3.11/dist-packages (2.0.0)\n",
            "Requirement already satisfied: rustworkx>=0.15.0 in /usr/local/lib/python3.11/dist-packages (from qiskit[visualization]) (0.16.0)\n",
            "Requirement already satisfied: numpy<3,>=1.17 in /usr/local/lib/python3.11/dist-packages (from qiskit[visualization]) (2.0.2)\n",
            "Requirement already satisfied: scipy>=1.5 in /usr/local/lib/python3.11/dist-packages (from qiskit[visualization]) (1.14.1)\n",
            "Requirement already satisfied: sympy>=1.3 in /usr/local/lib/python3.11/dist-packages (from qiskit[visualization]) (1.13.1)\n",
            "Requirement already satisfied: dill>=0.3 in /usr/local/lib/python3.11/dist-packages (from qiskit[visualization]) (0.4.0)\n",
            "Requirement already satisfied: python-dateutil>=2.8.0 in /usr/local/lib/python3.11/dist-packages (from qiskit[visualization]) (2.8.2)\n",
            "Requirement already satisfied: stevedore>=3.0.0 in /usr/local/lib/python3.11/dist-packages (from qiskit[visualization]) (5.4.1)\n",
            "Requirement already satisfied: typing-extensions in /usr/local/lib/python3.11/dist-packages (from qiskit[visualization]) (4.13.2)\n",
            "Requirement already satisfied: symengine<0.14,>=0.11 in /usr/local/lib/python3.11/dist-packages (from qiskit[visualization]) (0.13.0)\n",
            "Requirement already satisfied: matplotlib>=3.3 in /usr/local/lib/python3.11/dist-packages (from qiskit[visualization]) (3.10.0)\n",
            "Requirement already satisfied: pydot in /usr/local/lib/python3.11/dist-packages (from qiskit[visualization]) (3.0.4)\n",
            "Requirement already satisfied: Pillow>=4.2.1 in /usr/local/lib/python3.11/dist-packages (from qiskit[visualization]) (11.1.0)\n",
            "Requirement already satisfied: pylatexenc>=1.4 in /usr/local/lib/python3.11/dist-packages (from qiskit[visualization]) (2.10)\n",
            "Requirement already satisfied: seaborn>=0.9.0 in /usr/local/lib/python3.11/dist-packages (from qiskit[visualization]) (0.13.2)\n",
            "Requirement already satisfied: contourpy>=1.0.1 in /usr/local/lib/python3.11/dist-packages (from matplotlib>=3.3->qiskit[visualization]) (1.3.2)\n",
            "Requirement already satisfied: cycler>=0.10 in /usr/local/lib/python3.11/dist-packages (from matplotlib>=3.3->qiskit[visualization]) (0.12.1)\n",
            "Requirement already satisfied: fonttools>=4.22.0 in /usr/local/lib/python3.11/dist-packages (from matplotlib>=3.3->qiskit[visualization]) (4.57.0)\n",
            "Requirement already satisfied: kiwisolver>=1.3.1 in /usr/local/lib/python3.11/dist-packages (from matplotlib>=3.3->qiskit[visualization]) (1.4.8)\n",
            "Requirement already satisfied: packaging>=20.0 in /usr/local/lib/python3.11/dist-packages (from matplotlib>=3.3->qiskit[visualization]) (24.2)\n",
            "Requirement already satisfied: pyparsing>=2.3.1 in /usr/local/lib/python3.11/dist-packages (from matplotlib>=3.3->qiskit[visualization]) (3.2.3)\n",
            "Requirement already satisfied: six>=1.5 in /usr/local/lib/python3.11/dist-packages (from python-dateutil>=2.8.0->qiskit[visualization]) (1.17.0)\n",
            "Requirement already satisfied: pandas>=1.2 in /usr/local/lib/python3.11/dist-packages (from seaborn>=0.9.0->qiskit[visualization]) (2.2.2)\n",
            "Requirement already satisfied: pbr>=2.0.0 in /usr/local/lib/python3.11/dist-packages (from stevedore>=3.0.0->qiskit[visualization]) (6.1.1)\n",
            "Requirement already satisfied: mpmath<1.4,>=1.1.0 in /usr/local/lib/python3.11/dist-packages (from sympy>=1.3->qiskit[visualization]) (1.3.0)\n",
            "Requirement already satisfied: pytz>=2020.1 in /usr/local/lib/python3.11/dist-packages (from pandas>=1.2->seaborn>=0.9.0->qiskit[visualization]) (2025.2)\n",
            "Requirement already satisfied: tzdata>=2022.7 in /usr/local/lib/python3.11/dist-packages (from pandas>=1.2->seaborn>=0.9.0->qiskit[visualization]) (2025.2)\n",
            "Requirement already satisfied: setuptools in /usr/local/lib/python3.11/dist-packages (from pbr>=2.0.0->stevedore>=3.0.0->qiskit[visualization]) (75.2.0)\n",
            "Requirement already satisfied: qiskit-aer in /usr/local/lib/python3.11/dist-packages (0.17.0)\n",
            "Requirement already satisfied: qiskit>=1.1.0 in /usr/local/lib/python3.11/dist-packages (from qiskit-aer) (2.0.0)\n",
            "Requirement already satisfied: numpy>=1.16.3 in /usr/local/lib/python3.11/dist-packages (from qiskit-aer) (2.0.2)\n",
            "Requirement already satisfied: scipy>=1.0 in /usr/local/lib/python3.11/dist-packages (from qiskit-aer) (1.14.1)\n",
            "Requirement already satisfied: psutil>=5 in /usr/local/lib/python3.11/dist-packages (from qiskit-aer) (5.9.5)\n",
            "Requirement already satisfied: rustworkx>=0.15.0 in /usr/local/lib/python3.11/dist-packages (from qiskit>=1.1.0->qiskit-aer) (0.16.0)\n",
            "Requirement already satisfied: sympy>=1.3 in /usr/local/lib/python3.11/dist-packages (from qiskit>=1.1.0->qiskit-aer) (1.13.1)\n",
            "Requirement already satisfied: dill>=0.3 in /usr/local/lib/python3.11/dist-packages (from qiskit>=1.1.0->qiskit-aer) (0.4.0)\n",
            "Requirement already satisfied: python-dateutil>=2.8.0 in /usr/local/lib/python3.11/dist-packages (from qiskit>=1.1.0->qiskit-aer) (2.8.2)\n",
            "Requirement already satisfied: stevedore>=3.0.0 in /usr/local/lib/python3.11/dist-packages (from qiskit>=1.1.0->qiskit-aer) (5.4.1)\n",
            "Requirement already satisfied: typing-extensions in /usr/local/lib/python3.11/dist-packages (from qiskit>=1.1.0->qiskit-aer) (4.13.2)\n",
            "Requirement already satisfied: symengine<0.14,>=0.11 in /usr/local/lib/python3.11/dist-packages (from qiskit>=1.1.0->qiskit-aer) (0.13.0)\n",
            "Requirement already satisfied: six>=1.5 in /usr/local/lib/python3.11/dist-packages (from python-dateutil>=2.8.0->qiskit>=1.1.0->qiskit-aer) (1.17.0)\n",
            "Requirement already satisfied: pbr>=2.0.0 in /usr/local/lib/python3.11/dist-packages (from stevedore>=3.0.0->qiskit>=1.1.0->qiskit-aer) (6.1.1)\n",
            "Requirement already satisfied: mpmath<1.4,>=1.1.0 in /usr/local/lib/python3.11/dist-packages (from sympy>=1.3->qiskit>=1.1.0->qiskit-aer) (1.3.0)\n",
            "Requirement already satisfied: setuptools in /usr/local/lib/python3.11/dist-packages (from pbr>=2.0.0->stevedore>=3.0.0->qiskit>=1.1.0->qiskit-aer) (75.2.0)\n"
          ]
        }
      ]
    },
    {
      "cell_type": "markdown",
      "id": "a97fc651",
      "metadata": {
        "id": "a97fc651"
      },
      "source": [
        "# Computación Cuántica - Práctica 2\n",
        "## Análisis Teórico\n",
        "\n",
        "### Parte 1: Análisis del Tutorial \"Comparing Strings with Quantum Superposition\"\n",
        "\n",
        "#### 1.1 Representación Cuántica de Secuencias de Strings\n",
        "\n",
        "Las secuencias (Yeast, Protozoan y Bacterial) se representan usando superposición cuántica.\n",
        "Cada carácter es codificado en dos qubits y todas las posiciones posibles se representan simultáneamente.\n",
        "\n",
        "El primer qubit representa la posición del caracter y el segundo si es \"-\" |0⟩ o \"M\" |1⟩.\n",
        "\n",
        "#### 1.2 Uso de Superposición Cuántica\n",
        "\n",
        "La superposición cuántica permite representar todas las posiciones de la cadena al mismo tiempo,\n",
        "lo que posibilita comparar múltiples caracteres de manera paralela.\n",
        "\n",
        "#### 1.3 Explicación de la función encode_bitstring()\n",
        "\n",
        "La función encode_bitstring(bitstring, circuit, qubits) codifica una cadena binaria en un circuito cuántico:\n",
        "- Si el bit es '1', aplica una compuerta X en el qubit correspondiente.\n",
        "- Si el bit es '0', no realiza ninguna acción.\n",
        "\n",
        "Esto transforma el estado inicial |0⟩ a los estados necesarios para representar el string.\n",
        "\n",
        "#### 1.4 Necesidad de Invertir los Circuitos\n",
        "\n",
        "Se invierten los circuitos para explotar la reversibilidad cuántica:\n",
        "- Aplicar un circuito y luego su inverso recupera el estado inicial.\n",
        "- Permite determinar si dos secuencias son iguales mediante una única medición.\n",
        "\n",
        "#### 1.5 Ejemplo Matemático del Proceso de Inversión\n",
        "\n",
        "Si |ψ⟩ = U|0⟩ y |φ⟩ = V|0⟩, al aplicar U† sobre |φ⟩:\n",
        "U†|φ⟩ = U†V|0⟩\n",
        "\n",
        "Si V = U, entonces:\n",
        "U†U|0⟩ = I|0⟩ = |0⟩\n",
        "\n",
        "Se obtiene fidelidad perfecta.\n",
        "\n",
        "#### 1.6 Evidencia de la Reversibilidad Cuántica\n",
        "\n",
        "- Aplicar un circuito y su inverso devuelve el sistema al estado base.\n",
        "- Si dos secuencias son idénticas, el sistema vuelve a |0⟩ y la medición lo confirma.\n",
        "- Si difieren, el estado final no será |0⟩, y la medición lo evidenciará.\n",
        "\n",
        "### Parte 2: Fidelidad Cuántica\n",
        "\n",
        "#### Concepto General\n",
        "\n",
        "La fidelidad cuántica mide cuán similares son dos estados cuánticos.\n",
        "\n",
        "Fórmula:\n",
        "F(|ψ⟩, |φ⟩) = |⟨ψ|φ⟩|^2\n",
        "\n",
        "La fidelidad puede interpretarse como la probabilidad de que un estado |φ⟩ pase un test de verificación\n",
        "en el que se pregunta si es igual al estado |ψ⟩.\n",
        "\n",
        "Una fidelidad de 1 significa que los estados son idénticos, mientras que una fidelidad de 0 indica\n",
        "que son completamente ortogonales (totalmente diferentes).\n",
        "\n",
        "Este concepto es crucial en la computación cuántica para validar resultados, verificar copias\n",
        "cuánticas, evaluar errores, y también en áreas como la teleportación cuántica y el benchmarking de dispositivos cuánticos.\n",
        "\n",
        "El cálculo de fidelidad se puede realizar midiendo el valor esperado de un operador proyector hacia el estado base,\n",
        "usualmente implementado de forma eficiente utilizando observables de Pauli en Qiskit.\n",
        "\n",
        "#### Cálculo de Fidelidad en Qiskit\n",
        "\n",
        "- Definir el observable proyector (SparsePauliOp).\n",
        "- Medir el valor esperado del observable (StatevectorEstimator).\n",
        "- El valor obtenido es directamente la fidelidad.\n",
        "\n",
        "\n",
        "### Parte 3: Plan de Código para Comparar Secuencias Genéticas\n",
        "\n",
        "#### Idea General\n",
        "\n",
        "1. Cargar 4 secuencias reales.\n",
        "2. Codificar cada secuencia en un circuito cuántico.\n",
        "3. Compararlas usando el cálculo de fidelidad cuántica.\n",
        "4. Mostrar resultados de similaridad."
      ]
    },
    {
      "cell_type": "code",
      "source": [
        "import numpy as np\n",
        "import math\n",
        "\n",
        "Human_string =      \"AGCCGGGCGCTGGCGCCCACCGCAGCCCCAGCTTGCCGAACCCCCTGCCCTGCGGCTTGGGCTACCCGGCTCAGCGCTGCACCCGGATCCCTGCCGTCTGGGGCTGGGCCCGCGCTGCCGTCTAGTCGCCGCGCCTCCTGCTGCAGCCACAGGGCTGAGATCTGCATTGGGGGCACAGGGGTTAGCGGGGAGGCAGAGGTCCTTGTTCCCGCTACCCGATCGCCGCGTATCCTAAGCCCCCCAGTACCCCACCTCTAACAAGGTGGTGCCGAAGCTCACGAGGCTGGCTGTGGCTTCTCTCAACACCAGCCCCAGGGTGGGCTTCGGGGCAGGCAGCATCCCCTGCATCTTCGGTTCGGGTGGCTCCAGGGACTTCAGCTCTCTGAACCTCTGCTCCAGATATTCATGGGCTGCGGCCACGGAGAGTTCCAGGGAAGACAGAAGCGGGGGCTGGAGGGCCACCTGGAGAAGGAGCAGAGCAGTAGAGTAGCAGGGCAGGGGTCACAGGGGCGAACAGGAGACCTACCCAGAAGGTCTCGAGGTGCAGCCCTTGGCGGGCGTAGCCTCACCTCGGTGGAGCTGTGGAAGTGGTAGATCCACATCAGGGTGTCCAGGGAGCTGGG\"\n",
        "\n",
        "Chimpanzee_string = \"AACCGAGCGCTGGCGCCCACCGCAGCCCCAGCTTGCCGAGCCCCTTGCCCTGCGGCCTGGGCTACCCGGCTCAGCGCTGCACCCGGATCCCTGCCGTCTGGGGCTGGGCCCGCGCTGCCGTCTAGTCGCCGTGCCTCCTGCTGCAGCCACAGGGCTGAGATCTGCATTGGGGGCACAGGGGTTAGCGGGGAGGCAGAGGTCCTTGTTCCCGCTGCCCGATCGCCGCGTATCCTAAGCCCCCCAGTACCCCACCTCTAACAAGGTGGTGCCGAAGCTCACGAGGCTGGCTGTGGCTTCTCTTAACACCAGCCCCAGGGTGGGCTTCGGGGCAGGCAGCATCCCCTGCATCTTCGGTTCCGGTGGCTCCAGGGACTTCAGCTCTCTGAACCTCTGCTCCAGATATTCATGGGCTGCGGCCACGGAGAGTTCCAGGGAAGACAGAAGCGGCGGCTGGAGGGCCACCTGGAGAAGGAGCAGAGCAGTAGAGTAGCAGGGCAGGGGTCACAGGGGCGAACAGGAGACCTACCCAGAAGGTCTCGAGGTGCAGCCCTTGGCGGGCGTAGCCTCACCTCGGTGGAGCTGTGGAAGTGGTAGATCCACATCAGGGTGTCCAGGGAGCTGGGGGTCCCC\"\n",
        "\n",
        "Rabbit_string =     \"AGCTGGGCGCTCACCCGCGCCGCGACCCCAGCTTGCCGGGCACCTCGCCCGGCAGCCTGAGCCACGCGGGCCAGCGCTCCGCCCGGATCCCCAGTTTCTGGGGCTGCACCTGGGCCGCCGCCACCCTCCAGCCGTCGCGCCTCCTTCTGCAGCCACAGGGCTGAGATCTGCGTTGGGGACACAGGAGTTAGGGCAAACGCAGAGACCCCGCCGCCCCGCAGCCCCGCAGCCCCGTGCCGCACCTCGACCAAGGCGGCCCCGAAGCTCACGATGCTGGCCGCGGCTTCTCTCAGCACCAGACCCAGGGTGGGCGGCTTCGCCGACTCCCCAGGCTCCGGGGACCCCAGCTCGCTGAACCTCTGCTCCAGATACTCGTGGGCGGCTGCCGCGGCCAGTTCCAGGGAGGAGAGGAGTGGGGGCTGCAGGGCTACCTGGAGAGGGCGCAAGGACGGTGGTCAGAAAGTCGCCGGAAAGGGGTCATGGAGAGGGGTCGCCCTCGGGTGGGACCGCGGGCAGAGCCTCACCTCGGTGGAGCTGTGGAAGTGGTAGACCCACAGTAGGGTCTC\"\n",
        "\n",
        "Pig_string =        \"AGCCGAACACTGGCGCCAGCTGCAGACCCGGCTTGCAAAGCCGCCTGCCCGGCGGCCTGGGCTACCCGGGCCAGGGCTCCACCGGGATCCCCGTCGTCTGGGGCTCGTCCCGGGCTGCCGTCCGCGTCCAGTCGCCGTATCTCCTGCTGCACCCACAGGGCTGAGATCTGCAGCGGGGCAGAGGAGTTGGTGGAGTCACAGAGGTCCCTGCTCCCACTGCTTGGTCCCCCTTCCCTGCCCCTTTTCAGCCCCCCAGCGCTCCACCTCTAACAAGGTGGCCCCGAAGTTCATGACGCTGCCCGCGGCTTCTCTTAGCACCAGCCCCAGGGTGGGCTTCGGGGCGGGCGGCTTCTCCAGCTCTCGCGGCTCTAGGGCCTTCAGCTCTGCGAACCTCTGCTCCAGATACTCACGGGCTGCAGCCGCAGCAACTTCCAGGGAAGAGAGGAGCGGGGGCTGGAGGGCCACCTGGAAAGGCACAGGGGCAGTGGAGTCATCGGCTCATAGGACAGAGGTTACAGAGGGGACGCTGGAGTCCTTTCCAGGGGGTCTCTCAGTGCCACCCCTGGGGCAGGTCTGTTGGCATAGCCTCACCTCCGTGGAGCTGTGGAAGTGGTACACCCACAGCAGGGTTTCCAGAGAGCTAGGGGTCCCCCTCATGAC\"\n",
        "\n",
        "# encode_bitstring() necesitaría log2 de la mínima longitud de una cadena (posiciones) más 2 de tipo de nucleótido\n",
        "print(\"Número de qubits para posición: \", int(np.ceil(np.log2(len(Rabbit_string)))))\n",
        "print(\"Número de qubits para tipo de nucleótido: \", 2)\n",
        "print(\"Total de qubits: \", int(np.ceil(np.log2(len(Pig_string)))) + 2)"
      ],
      "metadata": {
        "colab": {
          "base_uri": "https://localhost:8080/"
        },
        "id": "dDhvYHU3Jvv1",
        "outputId": "e9b4ea24-5d1d-4d6d-9c1c-975c91c63ee2"
      },
      "id": "dDhvYHU3Jvv1",
      "execution_count": 46,
      "outputs": [
        {
          "output_type": "stream",
          "name": "stdout",
          "text": [
            "Número de qubits para posición:  10\n",
            "Número de qubits para tipo de nucleótido:  2\n",
            "Total de qubits:  12\n"
          ]
        }
      ]
    },
    {
      "cell_type": "code",
      "execution_count": 47,
      "id": "2131f12f",
      "metadata": {
        "vscode": {
          "languageId": "plaintext"
        },
        "colab": {
          "base_uri": "https://localhost:8080/",
          "height": 397
        },
        "id": "2131f12f",
        "outputId": "57373a20-62c1-475a-c614-c833d93a07f6"
      },
      "outputs": [
        {
          "output_type": "stream",
          "name": "stdout",
          "text": [
            "Here, a quantum circuit consisting of 12 qubits will be required. \n",
            "\n",
            "These are the initial coeficients of the statevector. Its size is:  4096\n"
          ]
        },
        {
          "output_type": "display_data",
          "data": {
            "text/plain": [
              "<IPython.core.display.Latex object>"
            ],
            "text/latex": "$$\n\\ket{\\psi_0} = \n\\begin{bmatrix}\n0 & 0 & 0 & 0 & \\cdots & 0 & 0 & 0  \\\\\n \\end{bmatrix}\n$$"
          },
          "metadata": {}
        },
        {
          "output_type": "stream",
          "name": "stdout",
          "text": [
            "\n",
            "Here, a quantum circuit consisting of 12 qubits will be required. \n",
            "\n",
            "These are the initial coeficients of the statevector. Its size is:  4096\n"
          ]
        },
        {
          "output_type": "display_data",
          "data": {
            "text/plain": [
              "<IPython.core.display.Latex object>"
            ],
            "text/latex": "$$\n\\ket{\\psi_0} = \n\\begin{bmatrix}\n0 & 0 & 0 & 0 & \\cdots & 0 & 0 & 0  \\\\\n \\end{bmatrix}\n$$"
          },
          "metadata": {}
        },
        {
          "output_type": "stream",
          "name": "stdout",
          "text": [
            "\n",
            "Here, a quantum circuit consisting of 12 qubits will be required. \n",
            "\n",
            "These are the initial coeficients of the statevector. Its size is:  4096\n"
          ]
        },
        {
          "output_type": "display_data",
          "data": {
            "text/plain": [
              "<IPython.core.display.Latex object>"
            ],
            "text/latex": "$$\n\\ket{\\psi_0} = \n\\begin{bmatrix}\n0 & 0 & 0 & 0 & \\cdots & 0 & 0 & 0  \\\\\n \\end{bmatrix}\n$$"
          },
          "metadata": {}
        },
        {
          "output_type": "stream",
          "name": "stdout",
          "text": [
            "\n",
            "Here, a quantum circuit consisting of 12 qubits will be required. \n",
            "\n",
            "These are the initial coeficients of the statevector. Its size is:  4096\n"
          ]
        },
        {
          "output_type": "display_data",
          "data": {
            "text/plain": [
              "<IPython.core.display.Latex object>"
            ],
            "text/latex": "$$\n\\ket{\\psi_0} = \n\\begin{bmatrix}\n0 & 0 & 0 & 0 & \\cdots & 0 & 0 & 0  \\\\\n \\end{bmatrix}\n$$"
          },
          "metadata": {}
        },
        {
          "output_type": "stream",
          "name": "stdout",
          "text": [
            "\n"
          ]
        }
      ],
      "source": [
        "from qiskit import QuantumCircuit, QuantumRegister, ClassicalRegister, transpile\n",
        "from qiskit.circuit.library import Initialize\n",
        "from qiskit.visualization import array_to_latex\n",
        "from qiskit.quantum_info import Statevector\n",
        "from qiskit_aer import AerSimulator\n",
        "\n",
        "def encode_bitstring(bitstring, n, qr, cr, inverse=False):\n",
        "  \"\"\"\n",
        "  create a circuit for constructing the quantum superposition of the bitstring\n",
        "  \"\"\"\n",
        "\n",
        "  assert n > 2, \"the length of bitstring must be at least 2\"\n",
        "\n",
        "  print(\"Here, a quantum circuit consisting of\", n, \"qubits will be required. \\n\")\n",
        "\n",
        "  qc = QuantumCircuit(qr, cr)\n",
        "\n",
        "  #the probability amplitude of the desired state\n",
        "  desired_vector = np.array([ 0.0 for i in range(2**n) ])     #initialize to zero\n",
        "\n",
        "  print(\"These are the initial coeficients of the statevector. Its size is: \", len(desired_vector))\n",
        "  display(array_to_latex(Statevector(desired_vector), prefix=\"\\\\ket{\\\\psi_0} = \"))\n",
        "\n",
        "  qc_init = QuantumCircuit(n)\n",
        "  inverse_qc_init = QuantumCircuit(n)\n",
        "\n",
        "  # Se calcula la amplitud de cada estado en la superposición.\n",
        "  # Si queremos una superposición uniforme de 'len(bitstring)' elementos,\n",
        "  # entonces cada uno tiene que tener amplitud 1/√(len(bitstring)) para que la suma total de probabilidad sea 1.\n",
        "  amplitude = np.sqrt(1.0/len(bitstring))\n",
        "\n",
        "  for i, b in enumerate(bitstring):\n",
        "    pos = i * 4\n",
        "    if b == \"1\" or b == \"C\":\n",
        "      pos += 1\n",
        "    elif b == \"2\" or b == \"G\":\n",
        "      pos += 2\n",
        "    elif b == \"3\" or b == \"T\":\n",
        "      pos += 3\n",
        "    desired_vector[pos] = amplitude  # Lleva la amplitud respecto al tipo [A, C, G, T], si b=='G' entonces [0, 0, amplitude, 0]\n",
        "\n",
        "  init = Initialize(desired_vector) # Clase que inicializa los registros de qubits\n",
        "\n",
        "  if not inverse:\n",
        "    # Si no es la versión inversa, simplemente se aplica la inicialización\n",
        "    qc_init.append(init, qc_init.qubits)\n",
        "    qc.append(qc_init, qr)\n",
        "    qc.barrier(qr)\n",
        "  else:\n",
        "    # Si es inversa, se hace el \"uncompute\" del estado preparado\n",
        "    uncompute = init.gates_to_uncompute().decompose()\n",
        "    inverse_qc_init.append(uncompute, inverse_qc_init.qubits)\n",
        "    qc.append(inverse_qc_init, qr)\n",
        "    qc.barrier(qr)\n",
        "    for i in range(n):\n",
        "      # Se mide cada qubit para obtener un resultado clásico\n",
        "      qc.measure(qr[i], cr[i])\n",
        "  print()\n",
        "  return qc\n",
        "\n",
        "# Cálculo del número de qubits necesarios (log2 del largo del string + 2 para codificación por 4)\n",
        "n = int(np.ceil(np.log2(len(Rabbit_string)))) + 2\n",
        "qr = QuantumRegister(n)\n",
        "cr = ClassicalRegister(n)\n",
        "\n",
        "# Construcción de circuitos de codificación para cada especie\n",
        "qc_human     = encode_bitstring(Human_string, n, qr, cr)\n",
        "qc_chimp     = encode_bitstring(Chimpanzee_string, n, qr, cr)\n",
        "qc_rabbit    = encode_bitstring(Rabbit_string, n, qr, cr)\n",
        "qc_pig       = encode_bitstring(Pig_string, n, qr, cr)\n",
        "\n",
        "# Diccionario que contiene todos los circuitos codificados\n",
        "circs = {\"HUMAN\": qc_human, \"CHIMP\": qc_chimp, \"RABBIT\": qc_rabbit, \"PIG\": qc_pig}"
      ]
    },
    {
      "cell_type": "code",
      "source": [
        "# Creación de los circuitos inversos (los \"uncompute\") que se usarán para comparación\n",
        "qc_human_inv = encode_bitstring(Human_string, n, qr, cr, inverse=True)\n",
        "qc_chimp_inv = encode_bitstring(Chimpanzee_string, n, qr, cr, inverse=True)\n",
        "qc_rabbit_inv = encode_bitstring(Rabbit_string, n, qr, cr, inverse=True)\n",
        "qc_pig_inv = encode_bitstring(Pig_string, n, qr, cr, inverse=True)\n",
        "\n",
        "# Diccionario que contiene los circuitos inversos de cada especie\n",
        "inverse_circs = {\"HUMAN\": qc_human_inv, \"CHIMP\": qc_chimp_inv, \"RABBIT\": qc_rabbit_inv, \"PIG\": qc_pig_inv}"
      ],
      "metadata": {
        "colab": {
          "base_uri": "https://localhost:8080/",
          "height": 397
        },
        "id": "ODBXCAjcMfAN",
        "outputId": "d59bf332-8b28-4e44-fe5d-256387b42182"
      },
      "id": "ODBXCAjcMfAN",
      "execution_count": 48,
      "outputs": [
        {
          "output_type": "stream",
          "name": "stdout",
          "text": [
            "Here, a quantum circuit consisting of 12 qubits will be required. \n",
            "\n",
            "These are the initial coeficients of the statevector. Its size is:  4096\n"
          ]
        },
        {
          "output_type": "display_data",
          "data": {
            "text/plain": [
              "<IPython.core.display.Latex object>"
            ],
            "text/latex": "$$\n\\ket{\\psi_0} = \n\\begin{bmatrix}\n0 & 0 & 0 & 0 & \\cdots & 0 & 0 & 0  \\\\\n \\end{bmatrix}\n$$"
          },
          "metadata": {}
        },
        {
          "output_type": "stream",
          "name": "stdout",
          "text": [
            "\n",
            "Here, a quantum circuit consisting of 12 qubits will be required. \n",
            "\n",
            "These are the initial coeficients of the statevector. Its size is:  4096\n"
          ]
        },
        {
          "output_type": "display_data",
          "data": {
            "text/plain": [
              "<IPython.core.display.Latex object>"
            ],
            "text/latex": "$$\n\\ket{\\psi_0} = \n\\begin{bmatrix}\n0 & 0 & 0 & 0 & \\cdots & 0 & 0 & 0  \\\\\n \\end{bmatrix}\n$$"
          },
          "metadata": {}
        },
        {
          "output_type": "stream",
          "name": "stdout",
          "text": [
            "\n",
            "Here, a quantum circuit consisting of 12 qubits will be required. \n",
            "\n",
            "These are the initial coeficients of the statevector. Its size is:  4096\n"
          ]
        },
        {
          "output_type": "display_data",
          "data": {
            "text/plain": [
              "<IPython.core.display.Latex object>"
            ],
            "text/latex": "$$\n\\ket{\\psi_0} = \n\\begin{bmatrix}\n0 & 0 & 0 & 0 & \\cdots & 0 & 0 & 0  \\\\\n \\end{bmatrix}\n$$"
          },
          "metadata": {}
        },
        {
          "output_type": "stream",
          "name": "stdout",
          "text": [
            "\n",
            "Here, a quantum circuit consisting of 12 qubits will be required. \n",
            "\n",
            "These are the initial coeficients of the statevector. Its size is:  4096\n"
          ]
        },
        {
          "output_type": "display_data",
          "data": {
            "text/plain": [
              "<IPython.core.display.Latex object>"
            ],
            "text/latex": "$$\n\\ket{\\psi_0} = \n\\begin{bmatrix}\n0 & 0 & 0 & 0 & \\cdots & 0 & 0 & 0  \\\\\n \\end{bmatrix}\n$$"
          },
          "metadata": {}
        },
        {
          "output_type": "stream",
          "name": "stdout",
          "text": [
            "\n"
          ]
        }
      ]
    },
    {
      "cell_type": "code",
      "source": [
        "key = \"HUMAN\"       #the name of the code used as key to find similar ones\n",
        "shots = 8192\n",
        "\n",
        "combined_circs = {} # Diccionario donde se guardan los circuitos combinados (ver abajo para explicación)\n",
        "count = {}\n",
        "\n",
        "# Variables para guardar el más similar y su puntuación\n",
        "most_similar, most_similar_score = \"\", -1.0\n",
        "\n",
        "simulator = AerSimulator()\n",
        "\n",
        "for other_key in inverse_circs:\n",
        "  if other_key == key:\n",
        "    continue # No se compara con uno mismo\n",
        "\n",
        "  # Se compone (combina en secuencia) el circuito del 'key' con el circuito inverso de otra especie.\n",
        "  # Si ambos circuitos codifican el mismo estado cuántico, entonces el circuito combinado debería devolver todos los qubits al estado |0⟩.\n",
        "  combined_circs[other_key] = circs[key].compose(inverse_circs[other_key])\n",
        "\n",
        "  # Se ejecuta el circuito combinado en el simulador\n",
        "  job = simulator.run(transpile(combined_circs[other_key], simulator), shots=shots)\n",
        "  st = job.result().get_counts(combined_circs[other_key])\n",
        "\n",
        "  # Se busca cuántas veces el resultado de la medición fue \"000...0\".\n",
        "  # Si los estados eran iguales, ese será el resultado dominante.\n",
        "  # Se calcula una \"puntuación de similitud\" como la proporción de veces que se obtiene \"000...0\".\n",
        "  if \"0\"*n in st:\n",
        "    sim_score = st[\"0\"*n]/shots\n",
        "  else:\n",
        "    sim_score = 0.0\n",
        "\n",
        "  print(\"Similarity score of\",key,\"and\",other_key,\"is\",sim_score)\n",
        "\n",
        "  # Se guarda la especie con mayor similitud\n",
        "  if most_similar_score < sim_score:\n",
        "    most_similar, most_similar_score = other_key, sim_score\n",
        "\n",
        "print(\"[ANSWER]\", key,\"is most similar to\", most_similar)"
      ],
      "metadata": {
        "colab": {
          "base_uri": "https://localhost:8080/"
        },
        "id": "sWuSjMdXZuBX",
        "outputId": "55495718-75af-40f0-893a-d3389a67878d"
      },
      "id": "sWuSjMdXZuBX",
      "execution_count": 50,
      "outputs": [
        {
          "output_type": "stream",
          "name": "stdout",
          "text": [
            "Similarity score of HUMAN and CHIMP is 0.95703125\n",
            "Similarity score of HUMAN and RABBIT is 0.1229248046875\n",
            "Similarity score of HUMAN and PIG is 0.138671875\n",
            "[ANSWER] HUMAN is most similar to CHIMP\n"
          ]
        }
      ]
    }
  ],
  "metadata": {
    "language_info": {
      "name": "python"
    },
    "colab": {
      "provenance": []
    },
    "kernelspec": {
      "name": "python3",
      "display_name": "Python 3"
    }
  },
  "nbformat": 4,
  "nbformat_minor": 5
}